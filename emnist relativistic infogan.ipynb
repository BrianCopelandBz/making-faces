{
 "cells": [
  {
   "cell_type": "markdown",
   "metadata": {},
   "source": [
    "instructions for downloading emnist dataset (535 MB)\n",
    "\n",
    "```\n",
    "mkdir -p ~/.data/emnist\n",
    "wget -P ~/.data/emnist http://www.itl.nist.gov/iaui/vip/cs_links/EMNIST/gzip.zip\n",
    "unzip -o -d ~/.data/emnist -j ~/.data/emnist/gzip.zip\n",
    "rm -f ~/.data/emnist/gzip.zip\n",
    "```"
   ]
  },
  {
   "cell_type": "code",
   "execution_count": 1,
   "metadata": {
    "ExecuteTime": {
     "end_time": "2018-07-24T03:17:34.794454Z",
     "start_time": "2018-07-24T03:17:33.192479Z"
    }
   },
   "outputs": [
    {
     "name": "stdout",
     "output_type": "stream",
     "text": [
      "Populating the interactive namespace from numpy and matplotlib\n"
     ]
    },
    {
     "name": "stderr",
     "output_type": "stream",
     "text": [
      "/home/ubuntu/miniconda3/lib/python3.6/site-packages/h5py/__init__.py:36: FutureWarning: Conversion of the second argument of issubdtype from `float` to `np.floating` is deprecated. In future, it will be treated as `np.float64 == np.dtype(float).type`.\n",
      "  from ._conv import register_converters as _register_converters\n",
      "Using TensorFlow backend.\n"
     ]
    }
   ],
   "source": [
    "%pylab inline\n",
    "\n",
    "from mnist import MNIST\n",
    "import keras\n",
    "import keras.backend as K\n",
    "import tensorflow as tf\n",
    "from tqdm import tqdm as old_tqdm\n",
    "from tqdm import tqdm_notebook as tqdm"
   ]
  },
  {
   "cell_type": "code",
   "execution_count": 7,
   "metadata": {
    "ExecuteTime": {
     "end_time": "2018-07-24T03:22:59.027938Z",
     "start_time": "2018-07-24T03:21:24.657883Z"
    }
   },
   "outputs": [],
   "source": [
    "mndata = MNIST('/home/ubuntu/.data/emnist', return_type=\"numpy\")\n",
    "\n",
    "mndata.select_emnist('bymerge')\n",
    "\n",
    "x, y = mndata.load_training()\n",
    "# x = np.array(x)\n",
    "# y = np.array(y)"
   ]
  },
  {
   "cell_type": "code",
   "execution_count": 22,
   "metadata": {
    "ExecuteTime": {
     "end_time": "2018-07-24T03:31:39.818647Z",
     "start_time": "2018-07-24T03:31:39.815867Z"
    }
   },
   "outputs": [],
   "source": [
    "x = x.reshape(-1,28,28,1)"
   ]
  },
  {
   "cell_type": "code",
   "execution_count": 24,
   "metadata": {
    "ExecuteTime": {
     "end_time": "2018-07-24T03:39:03.537271Z",
     "start_time": "2018-07-24T03:39:03.533559Z"
    }
   },
   "outputs": [],
   "source": [
    "RANDOM_SEED = 1\n",
    "IMG_SIZE = 32 # should be power of two and square\n",
    "INFO_DIM = 10\n",
    "CHANNELS = 1\n",
    "N_CRITIC = 1\n",
    "N_GEN = 1\n",
    "LR = 0.0002\n",
    "BATCH_SIZE = 32\n",
    "N_EPOCHS = 30\n",
    "BETAS = (0.5, 0.999)\n",
    "Z_SIZE = 72\n",
    "LOSS = \"RaGAN\" # one of RGAN, RaGAN, LSGAN, RaLSGAN, HingeGAN, RaHingeGAN"
   ]
  },
  {
   "cell_type": "code",
   "execution_count": 25,
   "metadata": {
    "ExecuteTime": {
     "end_time": "2018-07-24T03:39:03.983095Z",
     "start_time": "2018-07-24T03:39:03.963892Z"
    }
   },
   "outputs": [],
   "source": [
    "random.seed(RANDOM_SEED)\n",
    "numpy.random.seed(RANDOM_SEED)\n",
    "tf.set_random_seed(RANDOM_SEED)\n",
    "\n",
    "img_shape = [IMG_SIZE, IMG_SIZE, CHANNELS]\n",
    "\n",
    "# Following parameter and optimizer set as recommended in paper\n",
    "n_critic = 1\n",
    "n_gen = 1\n",
    "lr = 0.0002\n",
    "optimizer = keras.optimizers.Adam(lr=LR, beta_1=BETAS[0], beta_2=BETAS[1])\n",
    "tnorm = keras.initializers.truncated_normal(stddev=.02)\n",
    "rnorm = keras.initializers.random_normal(stddev=.02)\n",
    "batchnorm = lambda : keras.layers.BatchNormalization(\n",
    "    moving_variance_initializer=keras.initializers.random_normal(\n",
    "        mean=1, stddev=.02))\n",
    "lrelu = lambda x: keras.activations.relu(x, alpha=.2)\n",
    "\n",
    "start_pow = np.log2(IMG_SIZE) - 3\n",
    "\n",
    "\n",
    "def ln_func(x):\n",
    "    return tf.contrib.layers.layer_norm(x)\n",
    "layer_norm = lambda : keras.layers.Lambda(ln_func)"
   ]
  },
  {
   "cell_type": "code",
   "execution_count": 26,
   "metadata": {
    "ExecuteTime": {
     "end_time": "2018-07-24T03:39:04.664751Z",
     "start_time": "2018-07-24T03:39:04.262328Z"
    }
   },
   "outputs": [
    {
     "name": "stdout",
     "output_type": "stream",
     "text": [
      "_________________________________________________________________\n",
      "Layer (type)                 Output Shape              Param #   \n",
      "=================================================================\n",
      "input_7 (InputLayer)         (None, 72)                0         \n",
      "_________________________________________________________________\n",
      "dense_3 (Dense)              (None, 4096)              299008    \n",
      "_________________________________________________________________\n",
      "batch_normalization_16 (Batc (None, 4096)              16384     \n",
      "_________________________________________________________________\n",
      "reshape_3 (Reshape)          (None, 4, 4, 256)         0         \n",
      "_________________________________________________________________\n",
      "dropout_16 (Dropout)         (None, 4, 4, 256)         0         \n",
      "_________________________________________________________________\n",
      "conv2d_transpose_7 (Conv2DTr (None, 8, 8, 128)         524288    \n",
      "_________________________________________________________________\n",
      "batch_normalization_17 (Batc (None, 8, 8, 128)         512       \n",
      "_________________________________________________________________\n",
      "dropout_17 (Dropout)         (None, 8, 8, 128)         0         \n",
      "_________________________________________________________________\n",
      "conv2d_transpose_8 (Conv2DTr (None, 16, 16, 64)        131072    \n",
      "_________________________________________________________________\n",
      "batch_normalization_18 (Batc (None, 16, 16, 64)        256       \n",
      "_________________________________________________________________\n",
      "dropout_18 (Dropout)         (None, 16, 16, 64)        0         \n",
      "_________________________________________________________________\n",
      "conv2d_transpose_9 (Conv2DTr (None, 32, 32, 1)         1024      \n",
      "=================================================================\n",
      "Total params: 972,544\n",
      "Trainable params: 963,968\n",
      "Non-trainable params: 8,576\n",
      "_________________________________________________________________\n"
     ]
    }
   ],
   "source": [
    "##################\n",
    "#\n",
    "# Build Generator\n",
    "#\n",
    "#################\n",
    "\n",
    "\n",
    "dim = 64\n",
    "k = 4\n",
    "DROP = 0.00\n",
    "\n",
    "noise = keras.Input(shape=(Z_SIZE, ))\n",
    "\n",
    "noise_block = keras.layers.Dense(\n",
    "    int(dim * (2**start_pow)) * 4 * 4,\n",
    "    activation=\"relu\",\n",
    "    kernel_initializer=rnorm)(noise)\n",
    "noise_block = batchnorm()(noise_block)\n",
    "noise_block = keras.layers.Reshape((4, 4, int(dim * (2**start_pow))))(noise_block)\n",
    "noise_block = keras.layers.Dropout(DROP)(noise_block)\n",
    "\n",
    "conv_block = noise_block\n",
    "\n",
    "n_blocks = int(start_pow + 1)\n",
    "curr_dim = int((2**(start_pow-1)) * dim)\n",
    "\n",
    "for i in range(n_blocks):\n",
    "    \n",
    "    if curr_dim >= dim:\n",
    "        conv_block = keras.layers.Conv2DTranspose(\n",
    "            curr_dim,\n",
    "            kernel_size=k,\n",
    "            strides=2,\n",
    "            padding=\"same\",\n",
    "            activation=\"relu\",\n",
    "            kernel_initializer=rnorm,\n",
    "            use_bias=False)(conv_block)\n",
    "        curr_dim = curr_dim // 2\n",
    "        conv_block = batchnorm()(conv_block)\n",
    "        conv_block = keras.layers.Dropout(DROP)(conv_block)\n",
    "        \n",
    "    else:\n",
    "        conv_block = keras.layers.Conv2DTranspose(\n",
    "            CHANNELS,\n",
    "            kernel_size=k,\n",
    "            strides=2,\n",
    "            padding=\"same\",\n",
    "            activation=\"tanh\",\n",
    "            kernel_initializer=rnorm,\n",
    "            use_bias=False)(conv_block)\n",
    "        \n",
    "    \n",
    "\n",
    "img = conv_block\n",
    "\n",
    "generator = keras.Model(noise, img)\n",
    "generator.summary()"
   ]
  },
  {
   "cell_type": "code",
   "execution_count": 32,
   "metadata": {
    "ExecuteTime": {
     "end_time": "2018-07-24T03:57:00.045762Z",
     "start_time": "2018-07-24T03:56:59.676353Z"
    }
   },
   "outputs": [
    {
     "name": "stdout",
     "output_type": "stream",
     "text": [
      "__________________________________________________________________________________________________\n",
      "Layer (type)                    Output Shape         Param #     Connected to                     \n",
      "==================================================================================================\n",
      "input_10 (InputLayer)           (None, 32, 32, 1)    0                                            \n",
      "__________________________________________________________________________________________________\n",
      "conv2d_23 (Conv2D)              (None, 16, 16, 64)   1024        input_10[0][0]                   \n",
      "__________________________________________________________________________________________________\n",
      "batch_normalization_25 (BatchNo (None, 16, 16, 64)   256         conv2d_23[0][0]                  \n",
      "__________________________________________________________________________________________________\n",
      "dropout_25 (Dropout)            (None, 16, 16, 64)   0           batch_normalization_25[0][0]     \n",
      "__________________________________________________________________________________________________\n",
      "conv2d_24 (Conv2D)              (None, 8, 8, 128)    131072      dropout_25[0][0]                 \n",
      "__________________________________________________________________________________________________\n",
      "batch_normalization_26 (BatchNo (None, 8, 8, 128)    512         conv2d_24[0][0]                  \n",
      "__________________________________________________________________________________________________\n",
      "dropout_26 (Dropout)            (None, 8, 8, 128)    0           batch_normalization_26[0][0]     \n",
      "__________________________________________________________________________________________________\n",
      "conv2d_25 (Conv2D)              (None, 4, 4, 256)    524288      dropout_26[0][0]                 \n",
      "__________________________________________________________________________________________________\n",
      "batch_normalization_27 (BatchNo (None, 4, 4, 256)    1024        conv2d_25[0][0]                  \n",
      "__________________________________________________________________________________________________\n",
      "dropout_27 (Dropout)            (None, 4, 4, 256)    0           batch_normalization_27[0][0]     \n",
      "__________________________________________________________________________________________________\n",
      "conv2d_27 (Conv2D)              (None, 1, 1, 10)     40960       dropout_27[0][0]                 \n",
      "__________________________________________________________________________________________________\n",
      "conv2d_26 (Conv2D)              (None, 1, 1, 1)      4096        dropout_27[0][0]                 \n",
      "__________________________________________________________________________________________________\n",
      "flatten_9 (Flatten)             (None, 10)           0           conv2d_27[0][0]                  \n",
      "__________________________________________________________________________________________________\n",
      "flatten_8 (Flatten)             (None, 1)            0           conv2d_26[0][0]                  \n",
      "==================================================================================================\n",
      "Total params: 703,232\n",
      "Trainable params: 702,336\n",
      "Non-trainable params: 896\n",
      "__________________________________________________________________________________________________\n"
     ]
    }
   ],
   "source": [
    "##################\n",
    "#\n",
    "# Build Critic\n",
    "#\n",
    "#################\n",
    "\n",
    "dim = 64\n",
    "k = 4\n",
    "DROP = 0.0\n",
    "\n",
    "img = keras.Input(shape=img_shape)\n",
    "\n",
    "conv_block = img\n",
    "\n",
    "# conv_block = keras.layers.GaussianNoise(2/255)(conv_block)\n",
    "\n",
    "for i in range(n_blocks):\n",
    "    conv_block = keras.layers.Conv2D(\n",
    "        dim * (2**i),\n",
    "        kernel_size=k,\n",
    "        strides=2,\n",
    "        padding=\"same\",\n",
    "        activation=lrelu,\n",
    "        kernel_initializer=tnorm,\n",
    "        use_bias=False,\n",
    "    )(conv_block)\n",
    "    conv_block = batchnorm()(conv_block)\n",
    "#     conv_block = keras.layers.BatchNormalization()(conv_block)\n",
    "    conv_block = keras.layers.Dropout(DROP)(conv_block)\n",
    "\n",
    "val_block = keras.layers.Conv2D(\n",
    "    1,\n",
    "    kernel_size=4,\n",
    "    strides=1,\n",
    "    padding=\"valid\",\n",
    "    kernel_initializer=tnorm,\n",
    "    use_bias=False,\n",
    ")(conv_block)\n",
    "\n",
    "val_block = keras.layers.Flatten()(val_block)\n",
    "\n",
    "info_block = keras.layers.Conv2D(\n",
    "    INFO_DIM,\n",
    "    kernel_size=4,\n",
    "    strides=1,\n",
    "    padding=\"valid\",\n",
    "    kernel_initializer=tnorm,\n",
    "    use_bias=False,\n",
    ")(conv_block)\n",
    "\n",
    "info_block = keras.layers.Flatten()(info_block)\n",
    "\n",
    "critic = keras.Model(img, [info_block, val_block])\n",
    "\n",
    "critic.summary()"
   ]
  },
  {
   "cell_type": "code",
   "execution_count": 30,
   "metadata": {
    "ExecuteTime": {
     "end_time": "2018-07-24T03:55:11.732915Z",
     "start_time": "2018-07-24T03:55:11.729131Z"
    }
   },
   "outputs": [],
   "source": [
    "def mutual_info_loss(self, c, c_given_x):\n",
    "    \"\"\"The mutual information metric we aim to minimize\"\"\"\n",
    "    eps = 1e-8\n",
    "    conditional_entropy = K.mean(- K.sum(K.log(c_given_x + eps) * c, axis=1))\n",
    "    entropy = K.mean(- K.sum(K.log(c + eps) * c, axis=1))\n",
    "\n",
    "    return conditional_entropy + entropy"
   ]
  },
  {
   "cell_type": "code",
   "execution_count": 33,
   "metadata": {
    "ExecuteTime": {
     "end_time": "2018-07-24T03:57:35.543781Z",
     "start_time": "2018-07-24T03:57:35.534044Z"
    }
   },
   "outputs": [],
   "source": [
    "def noop_loss(target, output):\n",
    "    return output\n",
    "\n",
    "def BCE(logits, labels):\n",
    "    return tf.nn.sigmoid_cross_entropy_with_logits(logits =logits, labels=labels)\n",
    "\n",
    "### Relativistic Standard GAN\n",
    "\n",
    "# No sigmoid activation in last layer of generator because BCEWithLogitsLoss() already adds it\n",
    "\n",
    "# BCE_stable = torch.nn.BCEWithLogitsLoss()\n",
    "\n",
    "# # Discriminator loss\n",
    "# errD = BCE_stable(y_pred - y_pred_fake, y)\n",
    "# errD.backward()\n",
    "\n",
    "# # Generator loss (You may want to resample again from real and fake data)\n",
    "# errG = BCE_stable(y_pred_fake - y_pred, y)\n",
    "# errG.backward()\n",
    "\n",
    "def rgan_loss(inputs):\n",
    "    \n",
    "    y_pred = inputs[0]\n",
    "    y_pred_fake = inputs[1]\n",
    "    y = K.ones_like(y_pred)\n",
    "    \n",
    "    return BCE(y_pred - y_pred_fake, y)\n",
    "\n",
    "\n",
    "### Relativistic average Standard GAN\n",
    "\n",
    "# No sigmoid activation in last layer of generator because BCEWithLogitsLoss() already adds it\n",
    "\n",
    "# BCE_stable = torch.nn.BCEWithLogitsLoss()\n",
    "\n",
    "# # Discriminator loss\n",
    "# errD = ((BCE_stable(y_pred - torch.mean(y_pred_fake), y) + BCE_stable(y_pred_fake - torch.mean(y_pred), y2))/2\n",
    "# errD.backward()\n",
    "\n",
    "# # Generator loss (You may want to resample again from real and fake data)\n",
    "# errG = ((BCE_stable(y_pred - torch.mean(y_pred_fake), y2) + BCE_stable(y_pred_fake - torch.mean(y_pred), y))/2\n",
    "# errG.backward()\n",
    "\n",
    "def ragan_loss(inputs):\n",
    "    \n",
    "    y_pred = inputs[0]\n",
    "    y_pred_fake = inputs[1]\n",
    "    y = K.ones_like(y_pred)\n",
    "    y2 = K.zeros_like(y_pred)\n",
    "        \n",
    "    first_term = BCE(y_pred - K.mean(y_pred_fake), y)\n",
    "    second_term = BCE(y_pred_fake - K.mean(y_pred), y2)\n",
    "        \n",
    "    return (first_term + second_term)/2\n",
    "\n",
    "### Relativistic average LSGAN\n",
    "\n",
    "# No activation in generator\n",
    "\n",
    "# Discriminator loss\n",
    "# errD = (torch.mean((y_pred - torch.mean(y_pred_fake) - y) ** 2) + torch.mean((y_pred_fake - torch.mean(y_pred) + y) ** 2))/2\n",
    "# errD.backward()\n",
    "\n",
    "# # Generator loss (You may want to resample again from real and fake data)\n",
    "# errG = (torch.mean((y_pred - torch.mean(y_pred_fake) + y) ** 2) + torch.mean((y_pred_fake - torch.mean(y_pred) - y) ** 2))/2\n",
    "# errG.backward()\n",
    "\n",
    "def ralsgan_loss(inputs):\n",
    "    \n",
    "    y_pred = inputs[0]\n",
    "    y_pred_fake = inputs[1]\n",
    "    \n",
    "    y = K.ones_like(y_pred)\n",
    "    \n",
    "    first_term = K.mean((y_pred - K.mean(y_pred_fake) - y)**2)\n",
    "    second_term = K.mean((y_pred_fake - K.mean(y_pred) +y)**2)\n",
    "    \n",
    "    return (first_term + second_term)/2\n",
    "\n",
    "### Relativistic average HingeGAN\n",
    "\n",
    "# No activation in generator\n",
    "\n",
    "# # Discriminator loss\n",
    "# errD = (torch.mean(torch.nn.ReLU()(1.0 - (y_pred - torch.mean(y_pred_fake)))) + torch.mean(torch.nn.ReLU()(1.0 + (y_pred_fake - torch.mean(y_pred)))))/2\n",
    "# errD.backward()\n",
    " \n",
    "# # Generator loss  (You may want to resample again from real and fake data)\n",
    "# errG = (torch.mean(torch.nn.ReLU()(1.0 + (y_pred - torch.mean(y_pred_fake)))) + torch.mean(torch.nn.ReLU()(1.0 - (y_pred_fake - torch.mean(y_pred)))))/2\n",
    "# errG.backward()\n",
    "\n",
    "def rahingegan_loss(inputs):\n",
    "    \n",
    "    y_pred = inputs[0]\n",
    "    y_pred_fake = inputs[1]\n",
    "    \n",
    "    y = K.ones_like(y_pred)\n",
    "    \n",
    "    first_term = K.relu(1.0 - (y_pred - K.mean(y_pred_fake)))\n",
    "    second_term = K.relu(1.0 + (y_pred_fake - K.mean(y_pred)))\n",
    "    \n",
    "    return (first_term + second_term)/2\n",
    "\n",
    "gan_loss = {\n",
    "    \"RGAN\": rgan_loss, \n",
    "    \"RaGAN\": ragan_loss, \n",
    "    \"RaLSGAN\": ralsgan_loss, \n",
    "    \"RaHingeGAN\": rahingegan_loss\n",
    "}[LOSS]"
   ]
  },
  {
   "cell_type": "code",
   "execution_count": 35,
   "metadata": {
    "ExecuteTime": {
     "end_time": "2018-07-24T03:58:38.259097Z",
     "start_time": "2018-07-24T03:58:37.408465Z"
    }
   },
   "outputs": [],
   "source": [
    "#-------------------------------\n",
    "#       Set up tensors for \n",
    "#       computational graph\n",
    "#-------------------------------\n",
    "\n",
    "# Image input (real sample)\n",
    "real_img = keras.Input(shape=img_shape)\n",
    "\n",
    "# Noise input\n",
    "z_noise = keras.Input(shape=(Z_SIZE, ))\n",
    "# Generate image based of noise (fake sample)\n",
    "fake_img = generator(z_noise)\n",
    "\n",
    "# Discriminator determines validity of the real and fake images\n",
    "info_fake, val_fake = critic(fake_img)\n",
    "info, val = critic(real_img)"
   ]
  },
  {
   "cell_type": "code",
   "execution_count": null,
   "metadata": {},
   "outputs": [],
   "source": []
  }
 ],
 "metadata": {
  "kernelspec": {
   "display_name": "Python 3",
   "language": "python",
   "name": "python3"
  },
  "language_info": {
   "codemirror_mode": {
    "name": "ipython",
    "version": 3
   },
   "file_extension": ".py",
   "mimetype": "text/x-python",
   "name": "python",
   "nbconvert_exporter": "python",
   "pygments_lexer": "ipython3",
   "version": "3.6.5"
  },
  "toc": {
   "nav_menu": {},
   "number_sections": true,
   "sideBar": true,
   "skip_h1_title": false,
   "toc_cell": false,
   "toc_position": {},
   "toc_section_display": "block",
   "toc_window_display": false
  },
  "varInspector": {
   "cols": {
    "lenName": 16,
    "lenType": 16,
    "lenVar": 40
   },
   "kernels_config": {
    "python": {
     "delete_cmd_postfix": "",
     "delete_cmd_prefix": "del ",
     "library": "var_list.py",
     "varRefreshCmd": "print(var_dic_list())"
    },
    "r": {
     "delete_cmd_postfix": ") ",
     "delete_cmd_prefix": "rm(",
     "library": "var_list.r",
     "varRefreshCmd": "cat(var_dic_list()) "
    }
   },
   "types_to_exclude": [
    "module",
    "function",
    "builtin_function_or_method",
    "instance",
    "_Feature"
   ],
   "window_display": false
  }
 },
 "nbformat": 4,
 "nbformat_minor": 2
}
