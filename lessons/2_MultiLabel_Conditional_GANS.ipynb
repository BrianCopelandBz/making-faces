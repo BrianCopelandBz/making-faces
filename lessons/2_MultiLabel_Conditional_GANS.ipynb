{
 "cells": [
  {
   "cell_type": "code",
   "execution_count": null,
   "metadata": {
    "colab": {},
    "colab_type": "code",
    "id": "cCSMBN73htaH"
   },
   "outputs": [],
   "source": [
    "# WARNING these lines download a couple gigabytes of images.\n",
    "# they are meant to be run on REMOTE COMPUTERS using REMOTE BANDWIDTH\n",
    "# if you run these locally, like in a classroom, you are likely \n",
    "# to fill up your hard drive and make the local wifi unusable\n",
    "\n",
    "# usually takes 1-2 minutes to download and decompress\n",
    "\n",
    "# ! apt install liblz4-tool\n",
    "# ! wget https://storage.googleapis.com/soph-data/celeba/celeba.csv\n",
    "# ! wget https://storage.googleapis.com/soph-data/celeba/r64.tar.lz4\n",
    "# ! unlz4 r64.tar.lz4 - | tar xf - r64\n",
    "# ! wget https://storage.googleapis.com/soph-data/celeba/r128.tar.lz4\n",
    "# ! unlz4 r128.tar.lz4 - | tar xf - r128"
   ]
  },
  {
   "cell_type": "code",
   "execution_count": null,
   "metadata": {
    "colab": {
     "base_uri": "https://localhost:8080/",
     "height": 173
    },
    "colab_type": "code",
    "id": "n5fvvDVkjSqP",
    "outputId": "1d05d7a8-557b-44d4-b394-44bf851bab9f"
   },
   "outputs": [],
   "source": [
    "!pip install keras -U"
   ]
  },
  {
   "cell_type": "code",
   "execution_count": null,
   "metadata": {
    "colab": {
     "base_uri": "https://localhost:8080/",
     "height": 51
    },
    "colab_type": "code",
    "id": "RGOmK00ohtaK",
    "outputId": "7244fe49-0940-493a-cd8c-49a0f25b97de"
   },
   "outputs": [],
   "source": [
    "%pylab inline\n",
    "\n",
    "import keras\n",
    "import keras.backend as K\n",
    "import numpy as np\n",
    "import functools\n",
    "from tqdm import tqdm, tqdm_notebook\n",
    "import pandas as pd\n",
    "import soph"
   ]
  },
  {
   "cell_type": "code",
   "execution_count": null,
   "metadata": {
    "colab": {},
    "colab_type": "code",
    "id": "7WqcNtlRhtaQ"
   },
   "outputs": [],
   "source": [
    "z_len = 100\n",
    "im_size = 64\n",
    "batch_size = 100\n",
    "optimizer_d = keras.optimizers.Adam(lr=0.0002, beta_1=0)\n",
    "optimizer_g = keras.optimizers.Adam(lr=0.00005, beta_1=0)"
   ]
  },
  {
   "cell_type": "code",
   "execution_count": null,
   "metadata": {
    "colab": {
     "base_uri": "https://localhost:8080/",
     "height": 253
    },
    "colab_type": "code",
    "id": "YE6hNwVchtaU",
    "outputId": "2ca55a50-554d-4a75-a259-a6fe023ed6a2"
   },
   "outputs": [],
   "source": [
    "celeba_df = pd.read_csv(\"celeba.csv\")\n",
    "celeba_df.head()"
   ]
  },
  {
   "cell_type": "code",
   "execution_count": null,
   "metadata": {
    "colab": {
     "base_uri": "https://localhost:8080/",
     "height": 34
    },
    "colab_type": "code",
    "id": "8PHM2Oixhtac",
    "outputId": "bcb16cf8-5e68-4a2c-f06c-2b412f6fa755"
   },
   "outputs": [],
   "source": [
    "y_cols = list(celeba_df.columns)\n",
    "y_cols.remove('fn')\n",
    "\n",
    "datagen = keras.preprocessing.image.ImageDataGenerator(\n",
    "    preprocessing_function=lambda x: (2 / 255) * x - 1)\n",
    "\n",
    "train_data = datagen.flow_from_dataframe(\n",
    "    batch_size=batch_size,\n",
    "    target_size=(im_size, im_size),\n",
    "    dataframe=celeba_df,\n",
    "    directory=\"r64\",\n",
    "    y_col=y_cols,\n",
    "    class_mode=\"other\",\n",
    "    x_col='fn'\n",
    ")\n",
    "\n",
    "n_labels = len(y_cols)"
   ]
  },
  {
   "cell_type": "code",
   "execution_count": null,
   "metadata": {
    "colab": {},
    "colab_type": "code",
    "id": "2ES-2ag6htak"
   },
   "outputs": [],
   "source": [
    "dim = 50\n",
    "alpha = 1.25\n",
    "n_filters = lambda i: int(dim * (alpha**i))\n",
    "lrelu = functools.partial(K.relu, alpha=.1)\n",
    "bnorm = functools.partial(keras.layers.BatchNormalization, momentum=0.8)\n",
    "conv = functools.partial(\n",
    "    soph.Conv2D,\n",
    "    kernel_size=3,\n",
    "    padding=\"same\",\n",
    "    strides=2,\n",
    "    kernel_initializer=\"orthogonal\",\n",
    "    spectral_normalization=True,\n",
    ")"
   ]
  },
  {
   "cell_type": "code",
   "execution_count": null,
   "metadata": {
    "colab": {
     "base_uri": "https://localhost:8080/",
     "height": 1309
    },
    "colab_type": "code",
    "id": "idlS0-WKhtan",
    "outputId": "c945b7a1-3985-4054-8686-29d0ff8de942"
   },
   "outputs": [],
   "source": [
    "disc_base = keras.Sequential([\n",
    "    keras.layers.InputLayer(input_shape=(im_size, im_size, 3)),\n",
    "    conv(n_filters(0)),\n",
    "    keras.layers.Activation(lrelu),\n",
    "    conv(n_filters(1)),\n",
    "    keras.layers.Activation(lrelu),\n",
    "    conv(n_filters(2)),\n",
    "    keras.layers.Activation(lrelu),\n",
    "    conv(n_filters(3)),\n",
    "    keras.layers.Activation(lrelu),\n",
    "    conv(n_filters(4)),\n",
    "    keras.layers.Activation(lrelu),\n",
    "    keras.layers.GlobalAvgPool2D(),\n",
    "])\n",
    "\n",
    "gen = keras.Sequential([\n",
    "    keras.layers.InputLayer(input_shape=(z_len + n_labels, )),\n",
    "    keras.layers.Dense(n_filters(4) * 4 * 4, activation=\"relu\"),\n",
    "    keras.layers.Reshape((4, 4, n_filters(4))),\n",
    "    bnorm(),\n",
    "    \n",
    "    keras.layers.UpSampling2D(),\n",
    "    conv(n_filters(3), strides=1),\n",
    "    bnorm(),\n",
    "    keras.layers.Activation(\"relu\"),\n",
    "    \n",
    "    keras.layers.UpSampling2D(),\n",
    "    conv(n_filters(2), strides=1),\n",
    "    bnorm(),\n",
    "    keras.layers.Activation(\"relu\"),\n",
    "    \n",
    "    keras.layers.UpSampling2D(),\n",
    "    conv(n_filters(1), strides=1),\n",
    "    bnorm(),\n",
    "    keras.layers.Activation(\"relu\"),\n",
    "    \n",
    "    keras.layers.UpSampling2D(),\n",
    "    conv(n_filters(0), strides=1),\n",
    "    bnorm(),\n",
    "    keras.layers.Activation(\"relu\"),\n",
    "    \n",
    "    conv(3, strides=1, kernel_size=4, activation='tanh')\n",
    "])\n",
    "\n",
    "disc_base.summary()\n",
    "gen.summary()"
   ]
  },
  {
   "cell_type": "code",
   "execution_count": null,
   "metadata": {
    "colab": {},
    "colab_type": "code",
    "id": "Gq13ocB6htau"
   },
   "outputs": [],
   "source": [
    "disc_bin = keras.Sequential([\n",
    "    keras.layers.InputLayer(input_shape=(im_size, im_size, 3)),\n",
    "    disc_base,\n",
    "    keras.layers.Dense(1)\n",
    "])\n",
    "disc_class = keras.Sequential([\n",
    "    keras.layers.InputLayer(input_shape=(im_size, im_size, 3)),\n",
    "    disc_base,\n",
    "    keras.layers.Dense(n_labels, activation=\"sigmoid\")\n",
    "])\n"
   ]
  },
  {
   "cell_type": "code",
   "execution_count": null,
   "metadata": {
    "colab": {},
    "colab_type": "code",
    "id": "9JUTt49Phta2"
   },
   "outputs": [],
   "source": [
    "img_real = keras.Input(shape=(im_size, im_size, 3 ))\n",
    "z_gen = keras.Input(shape=(z_len + n_labels, ))\n",
    "img_fake = gen(z_gen)\n",
    "\n",
    "logits_real = disc_bin(img_real)\n",
    "logits_fake = disc_bin(img_fake)\n",
    "\n",
    "class_real = disc_class(img_real)\n",
    "class_fake = disc_class(img_fake)\n",
    "\n",
    "def disc_loss(yt, yp):\n",
    "    \n",
    "    loss_real = K.mean(K.relu(1-logits_real))\n",
    "    loss_fake = K.mean(K.relu(1+logits_fake))\n",
    "    \n",
    "    return (loss_real + loss_fake)/2\n",
    "\n",
    "def gen_loss(yt, yp):\n",
    "        return -K.mean(logits_fake)"
   ]
  },
  {
   "cell_type": "code",
   "execution_count": null,
   "metadata": {
    "colab": {},
    "colab_type": "code",
    "id": "uYxGCGF2hta7"
   },
   "outputs": [],
   "source": [
    "disc_bin.trainable = True\n",
    "disc_class.trainable = True\n",
    "gen.trainable = False\n",
    "\n",
    "disc_train = keras.Model([img_real, z_gen], [logits_real, logits_fake])\n",
    "disc_train.compile(loss = [disc_loss, None], optimizer=optimizer_d)\n",
    "\n",
    "disc_class_train = keras.Model(img_real, class_real)\n",
    "disc_class_train.compile(loss = \"binary_crossentropy\", optimizer=optimizer_d)"
   ]
  },
  {
   "cell_type": "code",
   "execution_count": null,
   "metadata": {
    "colab": {},
    "colab_type": "code",
    "id": "O_RGQzDbhtbA"
   },
   "outputs": [],
   "source": [
    "disc_bin.trainable = False\n",
    "disc_class.trainable = False\n",
    "gen.trainable = True\n",
    "\n",
    "gen_train = keras.Model(z_gen, logits_fake)\n",
    "gen_train.compile(loss = gen_loss, optimizer=optimizer_g)\n",
    "\n",
    "gen_class_train = keras.Model(z_gen, class_fake)\n",
    "gen_class_train.compile(loss = \"binary_crossentropy\", optimizer=optimizer_g)"
   ]
  },
  {
   "cell_type": "code",
   "execution_count": null,
   "metadata": {
    "colab": {},
    "colab_type": "code",
    "id": "GKejSHckhtbE"
   },
   "outputs": [],
   "source": [
    "# generate samples once. \n",
    "# these will be used to test the generator after each epoch\n",
    "\n",
    "sample_side = 10\n",
    "sample_num = sample_side*sample_side\n",
    "sample_noise = np.random.normal(size=(sample_num, z_len))\n",
    "sample_class = celeba_df[y_cols].sample(sample_num).values\n",
    "sample_comb = np.concatenate( (sample_noise, sample_class), axis=1)"
   ]
  },
  {
   "cell_type": "code",
   "execution_count": null,
   "metadata": {
    "colab": {
     "base_uri": "https://localhost:8080/",
     "height": 2524
    },
    "colab_type": "code",
    "id": "qQnExioOhtbI",
    "outputId": "07cac6d4-446a-4262-bf59-16a1c0fee04c",
    "scrolled": false
   },
   "outputs": [],
   "source": [
    "figsize(10,10)\n",
    "\n",
    "n_disc =2\n",
    "sample_side = 10\n",
    "batch_size = 200\n",
    "\n",
    "num_steps = train_data.n // ((n_disc)*train_data.batch_size)\n",
    "sample_interval = 50000 // ((n_disc)*train_data.batch_size)\n",
    "\n",
    "num_epochs = 10\n",
    "\n",
    "d_loss_list = []\n",
    "g_loss_list = []\n",
    "\n",
    "# this will be used for sampling after each epoch. \n",
    "# if we stick with the same set of noise, we can see how the generated images changes\n",
    "\n",
    "noise_sample = np.random.normal(size=(sample_side**2, z_len))\n",
    "\n",
    "for epoch_i in range(num_epochs):\n",
    "    print(f\"starting epoch {epoch_i}\")\n",
    "    \n",
    "    for step_i in tqdm(range(num_steps)):\n",
    "        \n",
    "        \n",
    "        for _ in range(n_disc):\n",
    "            # ---------------------\n",
    "            #  Train Discriminator\n",
    "            # ---------------------\n",
    "\n",
    "            # Select a random batch of images\n",
    "\n",
    "            x,y = train_data.next()\n",
    "            dumb = np.zeros_like(y)\n",
    "\n",
    "\n",
    "            # Sample generator input\n",
    "            noise = np.random.normal(size=(x.shape[0], z_len))\n",
    "            z_comb = np.concatenate((noise,y),axis=1)\n",
    "\n",
    "\n",
    "            # Train the critic\n",
    "            d_loss = disc_train.train_on_batch([x, z_comb], dumb)\n",
    "            d_loss = disc_class_train.train_on_batch(x, y)\n",
    "\n",
    "            d_loss_list.append(d_loss)\n",
    "\n",
    "        # ---------------------\n",
    "        #  Train Generator\n",
    "        # ---------------------\n",
    "\n",
    "        # Select a random batch of images\n",
    "        g_loss = gen_train.train_on_batch(z_comb, dumb)\n",
    "        g_loss = gen_class_train.train_on_batch(z_comb, y)\n",
    "        g_loss_list.append(g_loss)\n",
    "\n",
    "        if step_i % sample_interval == 0:\n",
    "\n",
    "            gen_sample = gen.predict(sample_comb)\n",
    "\n",
    "            gen_sample = (gen_sample+1)/2\n",
    "\n",
    "            gen_sample = gen_sample.reshape(sample_side,sample_side*im_size,im_size,3)\n",
    "            gen_sample = gen_sample.transpose((0,2,1,3))\n",
    "            gen_sample = gen_sample.reshape(sample_side*im_size,sample_side*im_size,3)\n",
    "            gen_sample = gen_sample.transpose((1,0,2))\n",
    "\n",
    "\n",
    "            plt.clf();\n",
    "            plt.figure();\n",
    "            fig = plt.imshow(gen_sample);\n",
    "            fig.axes.get_xaxis().set_visible(False)\n",
    "            fig.axes.get_yaxis().set_visible(False)\n",
    "            plt.show();\n",
    "\n",
    "\n",
    "            print(f\" disc loss: {np.mean(d_loss_list[-n_disc*num_steps:])} gen loss: {np.mean(g_loss_list[-num_steps:])}\")\n"
   ]
  },
  {
   "cell_type": "code",
   "execution_count": null,
   "metadata": {
    "colab": {},
    "colab_type": "code",
    "id": "Gj4KIe-BhtbP"
   },
   "outputs": [],
   "source": [
    "x,y = train_data.next()"
   ]
  },
  {
   "cell_type": "code",
   "execution_count": null,
   "metadata": {
    "colab": {},
    "colab_type": "code",
    "id": "3HVekAcEhtbV"
   },
   "outputs": [],
   "source": []
  }
 ],
 "metadata": {
  "accelerator": "GPU",
  "colab": {
   "collapsed_sections": [],
   "name": "2-MultiLabel-Conditional-GANS.ipynb",
   "provenance": [],
   "toc_visible": true,
   "version": "0.3.2"
  },
  "kernelspec": {
   "display_name": "Python 3",
   "language": "python",
   "name": "python3"
  },
  "language_info": {
   "codemirror_mode": {
    "name": "ipython",
    "version": 3
   },
   "file_extension": ".py",
   "mimetype": "text/x-python",
   "name": "python",
   "nbconvert_exporter": "python",
   "pygments_lexer": "ipython3",
   "version": "3.6.5"
  },
  "toc": {
   "nav_menu": {},
   "number_sections": true,
   "sideBar": true,
   "skip_h1_title": false,
   "toc_cell": false,
   "toc_position": {},
   "toc_section_display": "block",
   "toc_window_display": false
  },
  "varInspector": {
   "cols": {
    "lenName": 16,
    "lenType": 16,
    "lenVar": 40
   },
   "kernels_config": {
    "python": {
     "delete_cmd_postfix": "",
     "delete_cmd_prefix": "del ",
     "library": "var_list.py",
     "varRefreshCmd": "print(var_dic_list())"
    },
    "r": {
     "delete_cmd_postfix": ") ",
     "delete_cmd_prefix": "rm(",
     "library": "var_list.r",
     "varRefreshCmd": "cat(var_dic_list()) "
    }
   },
   "types_to_exclude": [
    "module",
    "function",
    "builtin_function_or_method",
    "instance",
    "_Feature"
   ],
   "window_display": false
  }
 },
 "nbformat": 4,
 "nbformat_minor": 1
}
